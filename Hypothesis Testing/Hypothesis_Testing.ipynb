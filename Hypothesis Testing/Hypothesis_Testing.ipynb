{
 "cells": [
  {
   "cell_type": "code",
   "execution_count": 1,
   "id": "e742689b-25d3-4057-a4b2-30eb450f59d8",
   "metadata": {},
   "outputs": [],
   "source": [
    "import numpy as np \n",
    "import pandas as pd"
   ]
  },
  {
   "cell_type": "code",
   "execution_count": 3,
   "id": "ef0ca94b-a4c5-4da3-b3cb-87f89d4027cb",
   "metadata": {},
   "outputs": [],
   "source": [
    "from scipy.stats import ttest_ind"
   ]
  },
  {
   "cell_type": "code",
   "execution_count": 5,
   "id": "9098289f-e276-4739-ab8c-aa9b54d1b518",
   "metadata": {},
   "outputs": [],
   "source": [
    "df= pd.read_csv('website_ab_test.csv')"
   ]
  },
  {
   "cell_type": "code",
   "execution_count": 7,
   "id": "82b61ea5-108b-45eb-bbc9-b84163b9ff4c",
   "metadata": {},
   "outputs": [
    {
     "data": {
      "text/html": [
       "<div>\n",
       "<style scoped>\n",
       "    .dataframe tbody tr th:only-of-type {\n",
       "        vertical-align: middle;\n",
       "    }\n",
       "\n",
       "    .dataframe tbody tr th {\n",
       "        vertical-align: top;\n",
       "    }\n",
       "\n",
       "    .dataframe thead th {\n",
       "        text-align: right;\n",
       "    }\n",
       "</style>\n",
       "<table border=\"1\" class=\"dataframe\">\n",
       "  <thead>\n",
       "    <tr style=\"text-align: right;\">\n",
       "      <th></th>\n",
       "      <th>Theme</th>\n",
       "      <th>Click Through Rate</th>\n",
       "      <th>Conversion Rate</th>\n",
       "      <th>Bounce Rate</th>\n",
       "      <th>Scroll_Depth</th>\n",
       "      <th>Age</th>\n",
       "      <th>Location</th>\n",
       "      <th>Session_Duration</th>\n",
       "      <th>Purchases</th>\n",
       "      <th>Added_to_Cart</th>\n",
       "    </tr>\n",
       "  </thead>\n",
       "  <tbody>\n",
       "    <tr>\n",
       "      <th>0</th>\n",
       "      <td>Light Theme</td>\n",
       "      <td>0.054920</td>\n",
       "      <td>0.282367</td>\n",
       "      <td>0.405085</td>\n",
       "      <td>72.489458</td>\n",
       "      <td>25</td>\n",
       "      <td>Chennai</td>\n",
       "      <td>1535</td>\n",
       "      <td>No</td>\n",
       "      <td>Yes</td>\n",
       "    </tr>\n",
       "    <tr>\n",
       "      <th>1</th>\n",
       "      <td>Light Theme</td>\n",
       "      <td>0.113932</td>\n",
       "      <td>0.032973</td>\n",
       "      <td>0.732759</td>\n",
       "      <td>61.858568</td>\n",
       "      <td>19</td>\n",
       "      <td>Pune</td>\n",
       "      <td>303</td>\n",
       "      <td>No</td>\n",
       "      <td>Yes</td>\n",
       "    </tr>\n",
       "    <tr>\n",
       "      <th>2</th>\n",
       "      <td>Dark Theme</td>\n",
       "      <td>0.323352</td>\n",
       "      <td>0.178763</td>\n",
       "      <td>0.296543</td>\n",
       "      <td>45.737376</td>\n",
       "      <td>47</td>\n",
       "      <td>Chennai</td>\n",
       "      <td>563</td>\n",
       "      <td>Yes</td>\n",
       "      <td>Yes</td>\n",
       "    </tr>\n",
       "    <tr>\n",
       "      <th>3</th>\n",
       "      <td>Light Theme</td>\n",
       "      <td>0.485836</td>\n",
       "      <td>0.325225</td>\n",
       "      <td>0.245001</td>\n",
       "      <td>76.305298</td>\n",
       "      <td>58</td>\n",
       "      <td>Pune</td>\n",
       "      <td>385</td>\n",
       "      <td>Yes</td>\n",
       "      <td>No</td>\n",
       "    </tr>\n",
       "    <tr>\n",
       "      <th>4</th>\n",
       "      <td>Light Theme</td>\n",
       "      <td>0.034783</td>\n",
       "      <td>0.196766</td>\n",
       "      <td>0.765100</td>\n",
       "      <td>48.927407</td>\n",
       "      <td>25</td>\n",
       "      <td>New Delhi</td>\n",
       "      <td>1437</td>\n",
       "      <td>No</td>\n",
       "      <td>No</td>\n",
       "    </tr>\n",
       "  </tbody>\n",
       "</table>\n",
       "</div>"
      ],
      "text/plain": [
       "         Theme  Click Through Rate  Conversion Rate  Bounce Rate  \\\n",
       "0  Light Theme            0.054920         0.282367     0.405085   \n",
       "1  Light Theme            0.113932         0.032973     0.732759   \n",
       "2   Dark Theme            0.323352         0.178763     0.296543   \n",
       "3  Light Theme            0.485836         0.325225     0.245001   \n",
       "4  Light Theme            0.034783         0.196766     0.765100   \n",
       "\n",
       "   Scroll_Depth  Age   Location  Session_Duration Purchases Added_to_Cart  \n",
       "0     72.489458   25    Chennai              1535        No           Yes  \n",
       "1     61.858568   19       Pune               303        No           Yes  \n",
       "2     45.737376   47    Chennai               563       Yes           Yes  \n",
       "3     76.305298   58       Pune               385       Yes            No  \n",
       "4     48.927407   25  New Delhi              1437        No            No  "
      ]
     },
     "execution_count": 7,
     "metadata": {},
     "output_type": "execute_result"
    }
   ],
   "source": [
    "df.head()"
   ]
  },
  {
   "cell_type": "code",
   "execution_count": null,
   "id": "edfae765-257d-4e9c-be80-ce82485cc9ae",
   "metadata": {},
   "outputs": [],
   "source": []
  },
  {
   "cell_type": "markdown",
   "id": "9f43f896-9e41-4679-8e56-a18f704b6ad1",
   "metadata": {},
   "source": [
    "# Dataset is based on the performance of two themes on a website. Our task is to find which theme performs better using Hypothesis Testing"
   ]
  },
  {
   "cell_type": "code",
   "execution_count": 10,
   "id": "156adfbd-6f25-448c-8a0b-bec241133224",
   "metadata": {},
   "outputs": [],
   "source": [
    "# dataset summary\n",
    "summary = {\n",
    "    'Number of Records': df.shape[0],\n",
    "    'Number of Columns': df.shape[1],\n",
    "    'Missing Values': df.isnull().sum(),\n",
    "    'Numerical Columns Summary': df.describe()\n",
    "}"
   ]
  },
  {
   "cell_type": "code",
   "execution_count": 12,
   "id": "3485bab3-4331-4291-ac0e-8906ebb4e60d",
   "metadata": {},
   "outputs": [
    {
     "data": {
      "text/plain": [
       "{'Number of Records': 1000,\n",
       " 'Number of Columns': 10,\n",
       " 'Missing Values': Theme                 0\n",
       " Click Through Rate    0\n",
       " Conversion Rate       0\n",
       " Bounce Rate           0\n",
       " Scroll_Depth          0\n",
       " Age                   0\n",
       " Location              0\n",
       " Session_Duration      0\n",
       " Purchases             0\n",
       " Added_to_Cart         0\n",
       " dtype: int64,\n",
       " 'Numerical Columns Summary':        Click Through Rate  Conversion Rate  Bounce Rate  Scroll_Depth  \\\n",
       " count         1000.000000      1000.000000  1000.000000   1000.000000   \n",
       " mean             0.256048         0.253312     0.505758     50.319494   \n",
       " std              0.139265         0.139092     0.172195     16.895269   \n",
       " min              0.010767         0.010881     0.200720     20.011738   \n",
       " 25%              0.140794         0.131564     0.353609     35.655167   \n",
       " 50%              0.253715         0.252823     0.514049     51.130712   \n",
       " 75%              0.370674         0.373040     0.648557     64.666258   \n",
       " max              0.499989         0.498916     0.799658     79.997108   \n",
       " \n",
       "                Age  Session_Duration  \n",
       " count  1000.000000       1000.000000  \n",
       " mean     41.528000        924.999000  \n",
       " std      14.114334        508.231723  \n",
       " min      18.000000         38.000000  \n",
       " 25%      29.000000        466.500000  \n",
       " 50%      42.000000        931.000000  \n",
       " 75%      54.000000       1375.250000  \n",
       " max      65.000000       1797.000000  }"
      ]
     },
     "execution_count": 12,
     "metadata": {},
     "output_type": "execute_result"
    }
   ],
   "source": [
    "summary"
   ]
  },
  {
   "cell_type": "markdown",
   "id": "5e631915-e623-48d8-a410-dd8dc6d52f9e",
   "metadata": {},
   "source": [
    "# Insight Summary\n",
    "Click Through Rate: Ranges from about 0.01 to 0.50 with a mean of approximately 0.26.\n",
    "\n",
    "Conversion Rate: Also ranges from about 0.01 to 0.50 with a mean close to the Click Through Rate, approximately 0.25.\n",
    "\n",
    "Bounce Rate: Varies between 0.20 and 0.80, with a mean around 0.51.\n",
    "\n",
    "Scroll Depth: Shows a spread from 20.01 to nearly 80, with a mean of 50.32.\n",
    "\n",
    "Age: The age of users ranges from 18 to 65 years, with a mean age of about 41.5 years.\n",
    "\n",
    "Session Duration: This varies widely from 38 seconds to nearly 1800 seconds (30 minutes), with a mean session duration of approximately 925 seconds (about 15 minutes)."
   ]
  },
  {
   "cell_type": "code",
   "execution_count": 29,
   "id": "68a53ae5-fcfa-4557-8303-91382879527a",
   "metadata": {},
   "outputs": [
    {
     "name": "stdout",
     "output_type": "stream",
     "text": [
      "             Click Through Rate  Conversion Rate  Bounce Rate  Scroll_Depth  \\\n",
      "Theme                                                                         \n",
      "Light Theme            0.247109         0.255459     0.499035     50.735232   \n",
      "Dark Theme             0.264501         0.251282     0.512115     49.926404   \n",
      "\n",
      "                   Age  Session_Duration  \n",
      "Theme                                     \n",
      "Light Theme  41.734568        930.833333  \n",
      "Dark Theme   41.332685        919.482490  \n"
     ]
    }
   ],
   "source": [
    "# grouping data by theme and calculating mean values for the metrics\n",
    "theme_performance = df.groupby('Theme').mean(numeric_only=True)\n",
    "\n",
    "# sorting the data by conversion rate for a better comparison\n",
    "theme_performance_sorted = theme_performance.sort_values(by='Conversion Rate', ascending=False)\n",
    "\n",
    "print(theme_performance_sorted)"
   ]
  },
  {
   "cell_type": "markdown",
   "id": "a75c09ae-6ae6-4fbc-b375-6826068a0cc7",
   "metadata": {},
   "source": [
    "# insights"
   ]
  },
  {
   "cell_type": "markdown",
   "id": "874ac6cb-94b2-487d-8842-1ea18cf9b741",
   "metadata": {},
   "source": [
    "1) Click Through Rate (CTR): The Dark Theme has a slightly higher average CTR (0.2645) compared to the Light Theme (0.2471).\n",
    "2) Conversion Rate: The Light Theme leads with a marginally higher average Conversion Rate (0.2555) compared to the Dark Theme (0.2513).\n",
    "3) Bounce Rate: The Bounce Rate is slightly higher for the Dark Theme (0.5121) than for the Light Theme (0.4990).\n",
    "4) Scroll Depth: Users on the Light Theme scroll slightly further on average (50.74%) compared to those on the Dark Theme (49.93%).\n",
    "5) Age: The average age of users is similar across themes, with the Light Theme at approximately 41.73 years and the Dark Theme at 41.33 years.\n",
    "6) Session Duration: The average session duration is slightly longer for users on the Light Theme (930.83 seconds) than for those on the Dark Theme (919.48 seconds).\n",
    "\n",
    "From these insights, it appears that the Light Theme slightly outperforms the Dark Theme in terms of Conversion Rate, Bounce Rate, Scroll Depth, and Session Duration, while the Dark Theme leads in Click Through Rate. However, the differences are relatively minor across all metrics"
   ]
  },
  {
   "cell_type": "markdown",
   "id": "d88f2373-7279-403f-9dc0-d92de2fa5834",
   "metadata": {},
   "source": [
    "## Getting Started with Hypothesis Testing"
   ]
  },
  {
   "cell_type": "markdown",
   "id": "dfbbc34d-4c79-4bfa-b0ed-da281d559da4",
   "metadata": {},
   "source": [
    "We’ll use a significance level (alpha) of 0.05 for our hypothesis testing. It means we’ll consider a result statistically significant if the p-value from our test is less than 0.05."
   ]
  },
  {
   "cell_type": "markdown",
   "id": "21f06b45-69cf-4601-90b7-42dcfb5a99a7",
   "metadata": {},
   "source": [
    "Let’s start with hypothesis testing based on the Conversion Rate between the Light Theme and Dark Theme. Our hypotheses are as follows:\n",
    "\n",
    "Null Hypothesis (H0​): There is no difference in Conversion Rates between the Light Theme and Dark Theme.\n",
    "Alternative Hypothesis (Ha​): There is a difference in Conversion Rates between the Light Theme and Dark Theme."
   ]
  },
  {
   "cell_type": "markdown",
   "id": "fe720f95-bf6c-4f32-8d43-27714ef6a00a",
   "metadata": {},
   "source": [
    "# use a two-sample t-test to compare the means of the two independent samples. Let’s proceed with the test"
   ]
  },
  {
   "cell_type": "code",
   "execution_count": 53,
   "id": "b77185ae-8148-4fcd-a726-6b0dbe718494",
   "metadata": {},
   "outputs": [],
   "source": [
    "# extracting conversion rates for both themes\n",
    "conversion_rates_light = df[df['Theme'] == 'Light Theme']['Conversion Rate']\n",
    "conversion_rates_dark = df[df['Theme'] == 'Dark Theme']['Conversion Rate']"
   ]
  },
  {
   "cell_type": "code",
   "execution_count": 61,
   "id": "f2e0f622-1800-412e-a05e-a5278c9352de",
   "metadata": {},
   "outputs": [],
   "source": [
    "# performing a two-sample t-test\n",
    "\n",
    "t_stat, t_pvalue =ttest_ind(conversion_rates_light,conversion_rates_dark,equal_var=False)"
   ]
  },
  {
   "cell_type": "code",
   "execution_count": 63,
   "id": "a40f2004-bf0c-4513-a4af-b7ddec16cb6d",
   "metadata": {},
   "outputs": [
    {
     "data": {
      "text/plain": [
       "(0.4748494462782632, 0.6349982678451778)"
      ]
     },
     "execution_count": 63,
     "metadata": {},
     "output_type": "execute_result"
    }
   ],
   "source": [
    "t_stat, t_pvalue"
   ]
  },
  {
   "cell_type": "markdown",
   "id": "611057db-addb-4fce-be5d-90c1d33a81d2",
   "metadata": {},
   "source": [
    "The result of the two-sample t-test gives a p-value of approximately 0.635. Since this p-value is much greater than our significance level of 0.05, we do not have enough evidence to reject the null hypothesis. Therefore, we conclude that there is no statistically significant difference in Conversion Rates between the Light Theme and Dark Theme based on the data provided."
   ]
  },
  {
   "cell_type": "markdown",
   "id": "101e4f4b-b41d-4bb3-ba63-9e6a9ce5d1a4",
   "metadata": {},
   "source": [
    "# hypothesis testing based on the Click Through Rate (CTR\n",
    " conduct hypothesis testing based on the Click Through Rate (CTR) to see if there’s a statistically significant difference between the Light Theme and Dark Theme regarding how often users click through. Our hypotheses remain structured similarly:\n",
    "\n",
    "Null Hypothesis (H0​): There is no difference in Click Through Rates between the Light Theme and Dark Theme.\n",
    "Alternative Hypothesis (Ha​): There is a difference in Click Rates between the Light Theme and Dark Theme."
   ]
  },
  {
   "cell_type": "code",
   "execution_count": 78,
   "id": "8fb385db-b345-4896-9c5a-3e13a694ed7c",
   "metadata": {},
   "outputs": [
    {
     "data": {
      "text/plain": [
       "(-1.9781708664172253, 0.04818435371010704)"
      ]
     },
     "execution_count": 78,
     "metadata": {},
     "output_type": "execute_result"
    }
   ],
   "source": [
    "# extracting click through rates for both themes\n",
    "ctr_light = df[df['Theme'] == 'Light Theme']['Click Through Rate']\n",
    "ctr_dark = df[df['Theme'] == 'Dark Theme']['Click Through Rate']\n",
    "\n",
    "# performing a two-sample t-test\n",
    "t_stat_ctr, p_value_ctr = ttest_ind( ctr_light,ctr_dark, equal_var=False)\n",
    "\n",
    "t_stat_ctr, p_value_ctr"
   ]
  },
  {
   "cell_type": "markdown",
   "id": "eff6299a-4539-48f3-83e5-1ce778de5a47",
   "metadata": {},
   "source": [
    "The two-sample t-test for the Click Through Rate (CTR) between the Light Theme and Dark Theme yields a p-value of approximately 0.048. This p-value is slightly below our significance level of 0.05, indicating that there is a statistically significant difference in Click Through Rates between the Light Theme and Dark Theme, with the Dark Theme likely having a higher CTR given the direction of the test statistic."
   ]
  },
  {
   "cell_type": "markdown",
   "id": "389e0c04-f142-4b4d-8d0e-c9409ffab9a7",
   "metadata": {},
   "source": [
    " # Hypothesis Testing based on  bounce rate and scroll depth"
   ]
  },
  {
   "cell_type": "code",
   "execution_count": 84,
   "id": "5a5e3b2e-0a75-46e4-a484-620ec3a304e6",
   "metadata": {},
   "outputs": [
    {
     "data": {
      "text/plain": [
       "(-1.2018883310494073, 0.229692077505148)"
      ]
     },
     "execution_count": 84,
     "metadata": {},
     "output_type": "execute_result"
    }
   ],
   "source": [
    "\t\n",
    "BR_light=df[df['Theme']=='Light Theme']['Bounce Rate']\n",
    "BR_dark=df[df['Theme']=='Dark Theme']['Bounce Rate']\n",
    "\n",
    "t_stat_BR ,p_value_BR =ttest_ind(BR_light,BR_dark,equal_var=False)\n",
    "\n",
    "t_stat_BR ,p_value_BR"
   ]
  },
  {
   "cell_type": "code",
   "execution_count": 86,
   "id": "f43fa43d-10d9-4219-a8d6-9248af60e96f",
   "metadata": {},
   "outputs": [
    {
     "data": {
      "text/plain": [
       "(0.7562277864140986, 0.4496919249484911)"
      ]
     },
     "execution_count": 86,
     "metadata": {},
     "output_type": "execute_result"
    }
   ],
   "source": [
    "\t\n",
    "SD_light=df[df['Theme']=='Light Theme']['Scroll_Depth']\n",
    "SD_dark=df[df['Theme']=='Dark Theme']['Scroll_Depth']\n",
    "\n",
    "t_stat_SD ,p_value_SD =ttest_ind(SD_light,SD_dark,equal_var=False)\n",
    "\n",
    "t_stat_SD ,p_value_SD"
   ]
  },
  {
   "cell_type": "markdown",
   "id": "d35bc856-5e01-4788-a115-c26a721f1660",
   "metadata": {},
   "source": [
    "# creating a table for comparison"
   ]
  },
  {
   "cell_type": "code",
   "execution_count": 89,
   "id": "3ac4411b-ba45-4857-82cd-89ab7145d169",
   "metadata": {},
   "outputs": [
    {
     "data": {
      "text/html": [
       "<div>\n",
       "<style scoped>\n",
       "    .dataframe tbody tr th:only-of-type {\n",
       "        vertical-align: middle;\n",
       "    }\n",
       "\n",
       "    .dataframe tbody tr th {\n",
       "        vertical-align: top;\n",
       "    }\n",
       "\n",
       "    .dataframe thead th {\n",
       "        text-align: right;\n",
       "    }\n",
       "</style>\n",
       "<table border=\"1\" class=\"dataframe\">\n",
       "  <thead>\n",
       "    <tr style=\"text-align: right;\">\n",
       "      <th></th>\n",
       "      <th>Metric</th>\n",
       "      <th>T-Statistic</th>\n",
       "      <th>P-Value</th>\n",
       "    </tr>\n",
       "  </thead>\n",
       "  <tbody>\n",
       "    <tr>\n",
       "      <th>0</th>\n",
       "      <td>Click Through Rate</td>\n",
       "      <td>-1.978171</td>\n",
       "      <td>0.048184</td>\n",
       "    </tr>\n",
       "    <tr>\n",
       "      <th>1</th>\n",
       "      <td>Conversion Rate</td>\n",
       "      <td>0.474849</td>\n",
       "      <td>0.634998</td>\n",
       "    </tr>\n",
       "    <tr>\n",
       "      <th>2</th>\n",
       "      <td>Bounce Rate</td>\n",
       "      <td>-1.201888</td>\n",
       "      <td>-1.201888</td>\n",
       "    </tr>\n",
       "    <tr>\n",
       "      <th>3</th>\n",
       "      <td>Scroll Depth</td>\n",
       "      <td>0.756228</td>\n",
       "      <td>0.449692</td>\n",
       "    </tr>\n",
       "  </tbody>\n",
       "</table>\n",
       "</div>"
      ],
      "text/plain": [
       "               Metric  T-Statistic   P-Value\n",
       "0  Click Through Rate    -1.978171  0.048184\n",
       "1     Conversion Rate     0.474849  0.634998\n",
       "2         Bounce Rate    -1.201888 -1.201888\n",
       "3        Scroll Depth     0.756228  0.449692"
      ]
     },
     "execution_count": 89,
     "metadata": {},
     "output_type": "execute_result"
    }
   ],
   "source": [
    "\n",
    "comparison_table = pd.DataFrame({\n",
    "    'Metric': ['Click Through Rate', 'Conversion Rate', 'Bounce Rate', 'Scroll Depth'],\n",
    "    'T-Statistic': [t_stat_ctr, t_stat, t_stat_BR , t_stat_SD],\n",
    "    'P-Value': [p_value_ctr, p_value, t_stat_BR, p_value_SD]\n",
    "})\n",
    "\n",
    "comparison_table"
   ]
  },
  {
   "cell_type": "markdown",
   "id": "c90d721c-eb39-432d-9c2f-24ce0ac4ec21",
   "metadata": {},
   "source": [
    "# insights\n",
    "1) Click Through Rate: The test reveals a statistically significant difference, with the Dark Theme likely performing better (P-Value = 0.048).\n",
    "2) Conversion Rate: No statistically significant difference was found (P-Value = 0.635).\n",
    "3) Bounce Rate: There’s no statistically significant difference in Bounce Rates between the themes (P-Value = 0.230).\n",
    "4) Scroll Depth: Similarly, no statistically significant difference is observed in Scroll Depths (P-Value = 0.450)."
   ]
  },
  {
   "cell_type": "markdown",
   "id": "16c72cea-a09a-4250-bbfb-aeb253c778d3",
   "metadata": {},
   "source": [
    "\n",
    "while the two themes perform similarly across most metrics, the Dark Theme has a slight edge in terms of engaging users to click through. For other key performance indicators like Conversion Rate, Bounce Rate, and Scroll Depth, the choice between a Light Theme and a Dark Theme does not significantly affect user behaviour according to the data provided"
   ]
  },
  {
   "cell_type": "markdown",
   "id": "d676d6e5-45fd-479d-86db-ca51aa666911",
   "metadata": {},
   "source": [
    "# Summary\n",
    " Hypothesis Testing is a statistical method used to make inferences or decisions about a population based on sample data. It starts with a null hypothesis (H0), which represents a default stance or no effect, and an alternative hypothesis (H1 or Ha), which represents what we aim to prove or expect to find. The process involves using sample data to determine whether to reject the null hypothesis in favor of the alternative hypothesis, based on the likelihood of observing the sample data under the null hypothesis"
   ]
  },
  {
   "cell_type": "code",
   "execution_count": null,
   "id": "18bff84d-e0c8-4c05-b676-150331509ce2",
   "metadata": {},
   "outputs": [],
   "source": []
  }
 ],
 "metadata": {
  "kernelspec": {
   "display_name": "Python 3 (ipykernel)",
   "language": "python",
   "name": "python3"
  },
  "language_info": {
   "codemirror_mode": {
    "name": "ipython",
    "version": 3
   },
   "file_extension": ".py",
   "mimetype": "text/x-python",
   "name": "python",
   "nbconvert_exporter": "python",
   "pygments_lexer": "ipython3",
   "version": "3.12.4"
  }
 },
 "nbformat": 4,
 "nbformat_minor": 5
}
